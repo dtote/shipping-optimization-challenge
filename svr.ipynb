{
 "cells": [
  {
   "cell_type": "markdown",
   "metadata": {},
   "source": [
    "# Shipping Optimization Challenge\n",
    "Técnicas Avanzadas de Análisis de Datos\n",
    "> Néstor Torres Díaz"
   ]
  },
  {
   "cell_type": "markdown",
   "metadata": {},
   "source": [
    "## Objetivo \n",
    "Realizar una competición para el problema de regresión *Shipping Optimization Challenge* planteado en el siguiente [enlace](https://www.kaggle.com/datasets/salil007/1-shipping-optimization-challenge?resource=download), con el propósito de predecir el tiempo (*Shipping Time*), necesario para procesar con éxito cada envío. "
   ]
  },
  {
   "cell_type": "markdown",
   "metadata": {},
   "source": [
    "## Ficheros utilizados\n",
    "Accediendo a la página de la competición través del enlace comentado en el anterior apartado, podremos ver los ficheros necesarios para participar en la misma.\n",
    "- ``shipping_companies_details_1.csv``: Este fichero contiene toda la información necesaria sobre las empresas de transporte.\n",
    "- ``submission_2.csv``: Este fichero debe ser presentado por los participantes. **No debe contener ningún id ni nombre de columna**. El orden de las variables objetivo debe ajustarse al formato del fichero pero la primera fila y la primera columna deberían eliminarse previas al envío. La competición solo aceptará archivos csv que consten únicamente de valores numéricos.\n",
    "- ``test_2.csv``: Este fichero contiene datos históricos de envíos. El tiempo de envío es desconocido y debe predecirse.\n",
    "- ``train_2_pr.csv``: Este fichero contiene envíos históricos comprendidos entre 2019 y 2020, con tiempos de envío conocidos y algunos otros detalles de los mismos, por lo que puede ser utilizado para entrenar el modelo que se plantee. Más de un registro en este fichero tiene el mismo `shipment_id`, pero su columna `shipping_company` es distinta.\n"
   ]
  },
  {
   "cell_type": "markdown",
   "metadata": {},
   "source": [
    "## Carga de Librerías"
   ]
  },
  {
   "cell_type": "code",
   "execution_count": 1751,
   "metadata": {},
   "outputs": [],
   "source": [
    "import pandas as pd\n",
    "import seaborn as sns\n",
    "import matplotlib.pyplot as  plt"
   ]
  },
  {
   "cell_type": "markdown",
   "metadata": {},
   "source": [
    "## Lectura de datos"
   ]
  },
  {
   "cell_type": "markdown",
   "metadata": {},
   "source": [
    "Se cargan los conjuntos de datos y se hace una exploración inicial sobre los mismos"
   ]
  },
  {
   "cell_type": "markdown",
   "metadata": {},
   "source": [
    "### Conjunto de entrenamiento"
   ]
  },
  {
   "cell_type": "markdown",
   "metadata": {},
   "source": [
    "En primera instancia, se lee el conjunto de datos de entrenamiento, estableciendo el id del envío como índice y eliminando posteriormente el establecido por defecto. También se parsea la fecha almacenada en el campo `send_timestamp`. "
   ]
  },
  {
   "cell_type": "code",
   "execution_count": 1752,
   "metadata": {},
   "outputs": [
    {
     "data": {
      "text/html": [
       "<div>\n",
       "<style scoped>\n",
       "    .dataframe tbody tr th:only-of-type {\n",
       "        vertical-align: middle;\n",
       "    }\n",
       "\n",
       "    .dataframe tbody tr th {\n",
       "        vertical-align: top;\n",
       "    }\n",
       "\n",
       "    .dataframe thead th {\n",
       "        text-align: right;\n",
       "    }\n",
       "</style>\n",
       "<table border=\"1\" class=\"dataframe\">\n",
       "  <thead>\n",
       "    <tr style=\"text-align: right;\">\n",
       "      <th></th>\n",
       "      <th>send_timestamp</th>\n",
       "      <th>pick_up_point</th>\n",
       "      <th>drop_off_point</th>\n",
       "      <th>source_country</th>\n",
       "      <th>destination_country</th>\n",
       "      <th>freight_cost</th>\n",
       "      <th>gross_weight</th>\n",
       "      <th>shipment_charges</th>\n",
       "      <th>shipment_mode</th>\n",
       "      <th>shipping_company</th>\n",
       "      <th>selected</th>\n",
       "      <th>shipping_time</th>\n",
       "    </tr>\n",
       "    <tr>\n",
       "      <th>shipment_id</th>\n",
       "      <th></th>\n",
       "      <th></th>\n",
       "      <th></th>\n",
       "      <th></th>\n",
       "      <th></th>\n",
       "      <th></th>\n",
       "      <th></th>\n",
       "      <th></th>\n",
       "      <th></th>\n",
       "      <th></th>\n",
       "      <th></th>\n",
       "      <th></th>\n",
       "    </tr>\n",
       "  </thead>\n",
       "  <tbody>\n",
       "    <tr>\n",
       "      <th>S000720</th>\n",
       "      <td>2019-06-08 07:17:51</td>\n",
       "      <td>A</td>\n",
       "      <td>Y</td>\n",
       "      <td>GB</td>\n",
       "      <td>IN</td>\n",
       "      <td>88.61</td>\n",
       "      <td>355.0</td>\n",
       "      <td>0.75</td>\n",
       "      <td>Air</td>\n",
       "      <td>SC3</td>\n",
       "      <td>Y</td>\n",
       "      <td>5.00741</td>\n",
       "    </tr>\n",
       "    <tr>\n",
       "      <th>S000725</th>\n",
       "      <td>2019-07-12 15:23:21</td>\n",
       "      <td>A</td>\n",
       "      <td>Y</td>\n",
       "      <td>GB</td>\n",
       "      <td>IN</td>\n",
       "      <td>85.65</td>\n",
       "      <td>105.0</td>\n",
       "      <td>0.90</td>\n",
       "      <td>Ocean</td>\n",
       "      <td>SC1</td>\n",
       "      <td>Y</td>\n",
       "      <td>21.41215</td>\n",
       "    </tr>\n",
       "    <tr>\n",
       "      <th>S000736</th>\n",
       "      <td>2019-10-04 14:23:29</td>\n",
       "      <td>A</td>\n",
       "      <td>Y</td>\n",
       "      <td>GB</td>\n",
       "      <td>IN</td>\n",
       "      <td>86.22</td>\n",
       "      <td>100.0</td>\n",
       "      <td>0.75</td>\n",
       "      <td>Air</td>\n",
       "      <td>SC3</td>\n",
       "      <td>Y</td>\n",
       "      <td>5.33692</td>\n",
       "    </tr>\n",
       "    <tr>\n",
       "      <th>S000738</th>\n",
       "      <td>2020-01-07 09:19:50</td>\n",
       "      <td>A</td>\n",
       "      <td>Y</td>\n",
       "      <td>GB</td>\n",
       "      <td>IN</td>\n",
       "      <td>94.43</td>\n",
       "      <td>1071.0</td>\n",
       "      <td>1.05</td>\n",
       "      <td>Air</td>\n",
       "      <td>SC2</td>\n",
       "      <td>Y</td>\n",
       "      <td>5.14792</td>\n",
       "    </tr>\n",
       "    <tr>\n",
       "      <th>S000739</th>\n",
       "      <td>2020-04-11 06:36:03</td>\n",
       "      <td>A</td>\n",
       "      <td>Y</td>\n",
       "      <td>GB</td>\n",
       "      <td>IN</td>\n",
       "      <td>94.24</td>\n",
       "      <td>2007.0</td>\n",
       "      <td>0.75</td>\n",
       "      <td>Air</td>\n",
       "      <td>SC3</td>\n",
       "      <td>Y</td>\n",
       "      <td>5.03067</td>\n",
       "    </tr>\n",
       "  </tbody>\n",
       "</table>\n",
       "</div>"
      ],
      "text/plain": [
       "                 send_timestamp pick_up_point drop_off_point source_country  \\\n",
       "shipment_id                                                                   \n",
       "S000720     2019-06-08 07:17:51             A              Y             GB   \n",
       "S000725     2019-07-12 15:23:21             A              Y             GB   \n",
       "S000736     2019-10-04 14:23:29             A              Y             GB   \n",
       "S000738     2020-01-07 09:19:50             A              Y             GB   \n",
       "S000739     2020-04-11 06:36:03             A              Y             GB   \n",
       "\n",
       "            destination_country  freight_cost  gross_weight  shipment_charges  \\\n",
       "shipment_id                                                                     \n",
       "S000720                      IN         88.61         355.0              0.75   \n",
       "S000725                      IN         85.65         105.0              0.90   \n",
       "S000736                      IN         86.22         100.0              0.75   \n",
       "S000738                      IN         94.43        1071.0              1.05   \n",
       "S000739                      IN         94.24        2007.0              0.75   \n",
       "\n",
       "            shipment_mode shipping_company selected  shipping_time  \n",
       "shipment_id                                                         \n",
       "S000720               Air              SC3        Y        5.00741  \n",
       "S000725             Ocean              SC1        Y       21.41215  \n",
       "S000736               Air              SC3        Y        5.33692  \n",
       "S000738               Air              SC2        Y        5.14792  \n",
       "S000739               Air              SC3        Y        5.03067  "
      ]
     },
     "execution_count": 1752,
     "metadata": {},
     "output_type": "execute_result"
    }
   ],
   "source": [
    "train = pd.read_csv('data/train_2_pr.csv', index_col='shipment_id', parse_dates=['send_timestamp'])\n",
    "train.drop('Unnamed: 0', axis=1, inplace=True)\n",
    "train.head()"
   ]
  },
  {
   "cell_type": "markdown",
   "metadata": {},
   "source": [
    "En concreto, el conjunto de almacenamiento contiene 5114 registros de envíos para los cuales se contemplan 12 variables con información sobre los mismos.\n",
    "\n",
    " - **send_timestamp**: Fecha y hora en que el pedido fue enviado al país de destino, ajustada al huso horario del país de origen.\n",
    " - **pick_up_point**: Código que identifica el lugar donde se recogen las mercancías para su envío.\n",
    " - **drop_off_point**: Código que identifica el lugar donde se entregan las mercancías al final de su viaje.\n",
    " - **source_country**: País desde donde se envían las mercancías.\n",
    " - **destination_country**: País al cual se envían las mercancías.\n",
    " - **freight_cost**: Costo asociado al transporte de cada kilogramo de mercancía.\n",
    " - **gross_weight**: Peso total en kilogramos de las mercancías que se necesitan enviar.\n",
    " - **shipment_charges**: Costo fijo asociado a cada envío, independientemente del peso de la carga.\n",
    " - **shipment_mode**: Método utilizado para enviar las mercancías, como por aire, mar, etc.\n",
    " - **shipping_company**: Identificador de la compañía de envíos que es candidata para realizar el transporte de las mercancías.\n",
    " - **selected**: Indica si la compañía en `shipping_company` fue seleccionada o no para realizar el envío.\n",
    " - **shipping_time**: Duración en días que toma para que las mercancías lleguen a su destino desde el momento en que son enviadas.\n",
    "\n",
    "Cabe añadir que el campo `shipment_id` ha sido incluído como índice, por lo tanto aquí no se referencia, pero hace alusión al identificador único del envío."
   ]
  },
  {
   "cell_type": "code",
   "execution_count": 1753,
   "metadata": {},
   "outputs": [
    {
     "name": "stdout",
     "output_type": "stream",
     "text": [
      "<class 'pandas.core.frame.DataFrame'>\n",
      "Index: 5114 entries, S000720 to S2082151\n",
      "Data columns (total 12 columns):\n",
      " #   Column               Non-Null Count  Dtype         \n",
      "---  ------               --------------  -----         \n",
      " 0   send_timestamp       5114 non-null   datetime64[ns]\n",
      " 1   pick_up_point        5114 non-null   object        \n",
      " 2   drop_off_point       5114 non-null   object        \n",
      " 3   source_country       5114 non-null   object        \n",
      " 4   destination_country  5114 non-null   object        \n",
      " 5   freight_cost         5114 non-null   float64       \n",
      " 6   gross_weight         5114 non-null   float64       \n",
      " 7   shipment_charges     5114 non-null   float64       \n",
      " 8   shipment_mode        5114 non-null   object        \n",
      " 9   shipping_company     5114 non-null   object        \n",
      " 10  selected             5114 non-null   object        \n",
      " 11  shipping_time        5114 non-null   float64       \n",
      "dtypes: datetime64[ns](1), float64(4), object(7)\n",
      "memory usage: 519.4+ KB\n"
     ]
    }
   ],
   "source": [
    "train.info()"
   ]
  },
  {
   "cell_type": "markdown",
   "metadata": {},
   "source": [
    "### Conjunto de Test"
   ]
  },
  {
   "cell_type": "markdown",
   "metadata": {},
   "source": [
    "Con el conjunto de test, la lectura se hace de manera idéntica al conjunto de entrenamiento."
   ]
  },
  {
   "cell_type": "code",
   "execution_count": 1754,
   "metadata": {},
   "outputs": [
    {
     "data": {
      "text/html": [
       "<div>\n",
       "<style scoped>\n",
       "    .dataframe tbody tr th:only-of-type {\n",
       "        vertical-align: middle;\n",
       "    }\n",
       "\n",
       "    .dataframe tbody tr th {\n",
       "        vertical-align: top;\n",
       "    }\n",
       "\n",
       "    .dataframe thead th {\n",
       "        text-align: right;\n",
       "    }\n",
       "</style>\n",
       "<table border=\"1\" class=\"dataframe\">\n",
       "  <thead>\n",
       "    <tr style=\"text-align: right;\">\n",
       "      <th></th>\n",
       "      <th>send_timestamp</th>\n",
       "      <th>pick_up_point</th>\n",
       "      <th>drop_off_point</th>\n",
       "      <th>source_country</th>\n",
       "      <th>destination_country</th>\n",
       "      <th>freight_cost</th>\n",
       "      <th>gross_weight</th>\n",
       "      <th>shipment_charges</th>\n",
       "      <th>shipment_mode</th>\n",
       "      <th>shipping_company</th>\n",
       "      <th>selected</th>\n",
       "    </tr>\n",
       "    <tr>\n",
       "      <th>shipment_id</th>\n",
       "      <th></th>\n",
       "      <th></th>\n",
       "      <th></th>\n",
       "      <th></th>\n",
       "      <th></th>\n",
       "      <th></th>\n",
       "      <th></th>\n",
       "      <th></th>\n",
       "      <th></th>\n",
       "      <th></th>\n",
       "      <th></th>\n",
       "    </tr>\n",
       "  </thead>\n",
       "  <tbody>\n",
       "    <tr>\n",
       "      <th>S002736</th>\n",
       "      <td>2019-10-04 14:27:04</td>\n",
       "      <td>A</td>\n",
       "      <td>Y</td>\n",
       "      <td>GB</td>\n",
       "      <td>IN</td>\n",
       "      <td>86.81</td>\n",
       "      <td>100.0</td>\n",
       "      <td>0.75</td>\n",
       "      <td>Air</td>\n",
       "      <td>SC3</td>\n",
       "      <td>Y</td>\n",
       "    </tr>\n",
       "    <tr>\n",
       "      <th>S002738</th>\n",
       "      <td>2020-01-07 09:39:35</td>\n",
       "      <td>A</td>\n",
       "      <td>Y</td>\n",
       "      <td>GB</td>\n",
       "      <td>IN</td>\n",
       "      <td>94.43</td>\n",
       "      <td>1006.0</td>\n",
       "      <td>0.75</td>\n",
       "      <td>Air</td>\n",
       "      <td>SC3</td>\n",
       "      <td>Y</td>\n",
       "    </tr>\n",
       "    <tr>\n",
       "      <th>S005739</th>\n",
       "      <td>2020-04-11 11:58:10</td>\n",
       "      <td>A</td>\n",
       "      <td>Y</td>\n",
       "      <td>GB</td>\n",
       "      <td>IN</td>\n",
       "      <td>93.55</td>\n",
       "      <td>321.0</td>\n",
       "      <td>1.05</td>\n",
       "      <td>Air</td>\n",
       "      <td>SC2</td>\n",
       "      <td>Y</td>\n",
       "    </tr>\n",
       "    <tr>\n",
       "      <th>S008722</th>\n",
       "      <td>2019-06-23 11:54:41</td>\n",
       "      <td>A</td>\n",
       "      <td>Y</td>\n",
       "      <td>GB</td>\n",
       "      <td>IN</td>\n",
       "      <td>88.74</td>\n",
       "      <td>355.0</td>\n",
       "      <td>1.05</td>\n",
       "      <td>Air</td>\n",
       "      <td>SC2</td>\n",
       "      <td>Y</td>\n",
       "    </tr>\n",
       "    <tr>\n",
       "      <th>S009737</th>\n",
       "      <td>2019-11-20 20:18:01</td>\n",
       "      <td>A</td>\n",
       "      <td>Y</td>\n",
       "      <td>GB</td>\n",
       "      <td>IN</td>\n",
       "      <td>92.83</td>\n",
       "      <td>115.0</td>\n",
       "      <td>1.05</td>\n",
       "      <td>Air</td>\n",
       "      <td>SC2</td>\n",
       "      <td>Y</td>\n",
       "    </tr>\n",
       "  </tbody>\n",
       "</table>\n",
       "</div>"
      ],
      "text/plain": [
       "                 send_timestamp pick_up_point drop_off_point source_country  \\\n",
       "shipment_id                                                                   \n",
       "S002736     2019-10-04 14:27:04             A              Y             GB   \n",
       "S002738     2020-01-07 09:39:35             A              Y             GB   \n",
       "S005739     2020-04-11 11:58:10             A              Y             GB   \n",
       "S008722     2019-06-23 11:54:41             A              Y             GB   \n",
       "S009737     2019-11-20 20:18:01             A              Y             GB   \n",
       "\n",
       "            destination_country  freight_cost  gross_weight  shipment_charges  \\\n",
       "shipment_id                                                                     \n",
       "S002736                      IN         86.81         100.0              0.75   \n",
       "S002738                      IN         94.43        1006.0              0.75   \n",
       "S005739                      IN         93.55         321.0              1.05   \n",
       "S008722                      IN         88.74         355.0              1.05   \n",
       "S009737                      IN         92.83         115.0              1.05   \n",
       "\n",
       "            shipment_mode shipping_company selected  \n",
       "shipment_id                                          \n",
       "S002736               Air              SC3        Y  \n",
       "S002738               Air              SC3        Y  \n",
       "S005739               Air              SC2        Y  \n",
       "S008722               Air              SC2        Y  \n",
       "S009737               Air              SC2        Y  "
      ]
     },
     "execution_count": 1754,
     "metadata": {},
     "output_type": "execute_result"
    }
   ],
   "source": [
    "test = pd.read_csv('data/test_2.csv', index_col='shipment_id', parse_dates=['send_timestamp'])\n",
    "test.drop('Unnamed: 0', axis=1, inplace=True)\n",
    "test.head()"
   ]
  },
  {
   "cell_type": "markdown",
   "metadata": {},
   "source": [
    "Este conjunto está compuesto por 1260 registros para los cuales se contemplan exactamente las mismas variables que para el conjunto de entrenamiento, a excepción de la variable objetivo `shipping_time`. "
   ]
  },
  {
   "cell_type": "code",
   "execution_count": 1755,
   "metadata": {},
   "outputs": [
    {
     "data": {
      "text/plain": [
       "shipping_company  shipment_charges\n",
       "SC1               0.9000              503\n",
       "SC3               0.7500              421\n",
       "SC2               1.0500              266\n",
       "                  0.5625               53\n",
       "SC1               1.1250               17\n",
       "Name: count, dtype: int64"
      ]
     },
     "execution_count": 1755,
     "metadata": {},
     "output_type": "execute_result"
    }
   ],
   "source": [
    "test[['shipping_company','shipment_charges']].value_counts()"
   ]
  },
  {
   "cell_type": "code",
   "execution_count": 1756,
   "metadata": {},
   "outputs": [
    {
     "name": "stdout",
     "output_type": "stream",
     "text": [
      "<class 'pandas.core.frame.DataFrame'>\n",
      "Index: 1260 entries, S002736 to S9443149\n",
      "Data columns (total 11 columns):\n",
      " #   Column               Non-Null Count  Dtype         \n",
      "---  ------               --------------  -----         \n",
      " 0   send_timestamp       1260 non-null   datetime64[ns]\n",
      " 1   pick_up_point        1260 non-null   object        \n",
      " 2   drop_off_point       1260 non-null   object        \n",
      " 3   source_country       1260 non-null   object        \n",
      " 4   destination_country  1260 non-null   object        \n",
      " 5   freight_cost         1260 non-null   float64       \n",
      " 6   gross_weight         1260 non-null   float64       \n",
      " 7   shipment_charges     1260 non-null   float64       \n",
      " 8   shipment_mode        1260 non-null   object        \n",
      " 9   shipping_company     1260 non-null   object        \n",
      " 10  selected             1260 non-null   object        \n",
      "dtypes: datetime64[ns](1), float64(3), object(7)\n",
      "memory usage: 118.1+ KB\n"
     ]
    }
   ],
   "source": [
    "test.info()"
   ]
  },
  {
   "cell_type": "markdown",
   "metadata": {},
   "source": [
    "### Conjunto de Detalles de Compañias de Transporte"
   ]
  },
  {
   "cell_type": "markdown",
   "metadata": {},
   "source": [
    "Este conjunto de datos contiene información sobre las diferentes compañías de transporte que se hacen cargo de los envíos."
   ]
  },
  {
   "cell_type": "code",
   "execution_count": 1757,
   "metadata": {},
   "outputs": [
    {
     "data": {
      "text/html": [
       "<div>\n",
       "<style scoped>\n",
       "    .dataframe tbody tr th:only-of-type {\n",
       "        vertical-align: middle;\n",
       "    }\n",
       "\n",
       "    .dataframe tbody tr th {\n",
       "        vertical-align: top;\n",
       "    }\n",
       "\n",
       "    .dataframe thead th {\n",
       "        text-align: right;\n",
       "    }\n",
       "</style>\n",
       "<table border=\"1\" class=\"dataframe\">\n",
       "  <thead>\n",
       "    <tr style=\"text-align: right;\">\n",
       "      <th></th>\n",
       "      <th>source_country</th>\n",
       "      <th>destination_country</th>\n",
       "      <th>shipment_mode</th>\n",
       "      <th>cut_off_time</th>\n",
       "      <th>tat</th>\n",
       "      <th>processing_days</th>\n",
       "      <th>pick_up_point</th>\n",
       "      <th>drop_off_point</th>\n",
       "      <th>min_cs</th>\n",
       "      <th>max_cs</th>\n",
       "      <th>shipping_company</th>\n",
       "      <th>shipment_charges</th>\n",
       "    </tr>\n",
       "  </thead>\n",
       "  <tbody>\n",
       "    <tr>\n",
       "      <th>0</th>\n",
       "      <td>GB</td>\n",
       "      <td>IN</td>\n",
       "      <td>Ocean</td>\n",
       "      <td>12PM IST</td>\n",
       "      <td>Before CO - T+0\\nAfter CO - T+1</td>\n",
       "      <td>Mon-Fri</td>\n",
       "      <td>A</td>\n",
       "      <td>Y</td>\n",
       "      <td>100</td>\n",
       "      <td>2,500,000</td>\n",
       "      <td>SC1</td>\n",
       "      <td>0.9000</td>\n",
       "    </tr>\n",
       "    <tr>\n",
       "      <th>1</th>\n",
       "      <td>GB</td>\n",
       "      <td>IN</td>\n",
       "      <td>Air</td>\n",
       "      <td>24/7</td>\n",
       "      <td>Real-time</td>\n",
       "      <td>24/7</td>\n",
       "      <td>A</td>\n",
       "      <td>Y</td>\n",
       "      <td>100</td>\n",
       "      <td>200,000</td>\n",
       "      <td>SC2</td>\n",
       "      <td>1.0500</td>\n",
       "    </tr>\n",
       "    <tr>\n",
       "      <th>2</th>\n",
       "      <td>GB</td>\n",
       "      <td>IN</td>\n",
       "      <td>Air</td>\n",
       "      <td>24/7</td>\n",
       "      <td>Within 15 mins</td>\n",
       "      <td>24/7</td>\n",
       "      <td>A</td>\n",
       "      <td>Y</td>\n",
       "      <td>100</td>\n",
       "      <td>200,000</td>\n",
       "      <td>SC3</td>\n",
       "      <td>0.7500</td>\n",
       "    </tr>\n",
       "    <tr>\n",
       "      <th>3</th>\n",
       "      <td>GB</td>\n",
       "      <td>BD</td>\n",
       "      <td>Ocean</td>\n",
       "      <td>10 - 2 and 3 - 6 BST</td>\n",
       "      <td>Before CO - T+0\\nAfter CO - T+1</td>\n",
       "      <td>Sun-Fri</td>\n",
       "      <td>A</td>\n",
       "      <td>X</td>\n",
       "      <td>50</td>\n",
       "      <td>4,000,000</td>\n",
       "      <td>SC1</td>\n",
       "      <td>1.1250</td>\n",
       "    </tr>\n",
       "    <tr>\n",
       "      <th>4</th>\n",
       "      <td>GB</td>\n",
       "      <td>BD</td>\n",
       "      <td>Ocean</td>\n",
       "      <td>10 - 2 and 3 - 6 BST</td>\n",
       "      <td>Before CO - T+0\\nAfter CO - T+1</td>\n",
       "      <td>Sun-Fri</td>\n",
       "      <td>A</td>\n",
       "      <td>X</td>\n",
       "      <td>50</td>\n",
       "      <td>4,000,000</td>\n",
       "      <td>SC2</td>\n",
       "      <td>0.5625</td>\n",
       "    </tr>\n",
       "  </tbody>\n",
       "</table>\n",
       "</div>"
      ],
      "text/plain": [
       "  source_country destination_country shipment_mode          cut_off_time  \\\n",
       "0             GB                  IN         Ocean              12PM IST   \n",
       "1             GB                  IN           Air                  24/7   \n",
       "2             GB                  IN           Air                  24/7   \n",
       "3             GB                  BD         Ocean  10 - 2 and 3 - 6 BST   \n",
       "4             GB                  BD         Ocean  10 - 2 and 3 - 6 BST   \n",
       "\n",
       "                               tat processing_days pick_up_point  \\\n",
       "0  Before CO - T+0\\nAfter CO - T+1         Mon-Fri             A   \n",
       "1                        Real-time            24/7             A   \n",
       "2                   Within 15 mins            24/7             A   \n",
       "3  Before CO - T+0\\nAfter CO - T+1         Sun-Fri             A   \n",
       "4  Before CO - T+0\\nAfter CO - T+1         Sun-Fri             A   \n",
       "\n",
       "  drop_off_point  min_cs        max_cs shipping_company  shipment_charges  \n",
       "0             Y      100    2,500,000               SC1            0.9000  \n",
       "1             Y      100      200,000               SC2            1.0500  \n",
       "2             Y      100      200,000               SC3            0.7500  \n",
       "3             X       50    4,000,000               SC1            1.1250  \n",
       "4             X       50    4,000,000               SC2            0.5625  "
      ]
     },
     "execution_count": 1757,
     "metadata": {},
     "output_type": "execute_result"
    }
   ],
   "source": [
    "details = pd.read_csv('data/shipping_companies_details_1.csv')\n",
    "details.head()"
   ]
  },
  {
   "cell_type": "markdown",
   "metadata": {},
   "source": [
    "En concreto, este conjunto de datos solo contiene 5 registros, para los cuales se tienen en cuenta 12 variables. Se puede ver como contiene muchos campos que coinciden con los vistos en los anteriores conjuntos de datos, lo cual significa que si los campos que tienen en común contienen los mismos valores se podrían llegar a combinar los conjuntos de datos para completar aún más la información.\n",
    "- **source_country**: País desde donde se envían las mercancías.\n",
    "- **destination_country**: País al cual se envían las mercancías.\n",
    "- **shipment_mode**: Método utilizado para enviar las mercancías, como por aire, mar, etc.\n",
    "- **cut_off_time**: Ventana de tiempo durante la cual las mercancías pueden ser recogidas. Por ejemplo, \"10 - 2 y 3 - 6 BST\" indica que la recogida está disponible entre las 10 a.m. y las 2 p.m., y nuevamente entre las 3 p.m. y las 6 p.m., todas las horas en Horario Estándar de Bangladesh.\n",
    "- **tat**: Tiempo que toma desde que se realiza el pedido del paquete hasta su envío. \"T\" se refiere a la hora en que se envió el paquete, y \"CO\" significa hora de corte, o la hora después de la cual el paquete ya no puede ser enviado. \"Before CO - T+0\" y \"After CO - T+1\" significa que si las mercancías se envían a la compañía de transporte antes de la hora de corte, entonces el paquete será enviado el mismo día, de lo contrario será enviado al día siguiente.\n",
    "- **processing_days**: Días en los que el punto de recogida está operativo.\n",
    "- **pick_up_point**: Código que identifica el lugar donde se recogen las mercancías para su envío.\n",
    "- **drop_off_point**: Código que identifica el lugar donde se entregan las mercancías al final de su viaje.\n",
    "- **min_cs**: Costo mínimo asociado con el envío de mercancías.\n",
    "- **max_cs**: Costo máximo asociado con el envío de mercancías.\n",
    "- **shipping_company**: Identificador de la compañía de envíos que es candidata para realizar el transporte de las mercancías.\n",
    "- **shipment_charges**: Costo fijo asociado a cada envío, independientemente del peso de la carga."
   ]
  },
  {
   "cell_type": "code",
   "execution_count": 1758,
   "metadata": {},
   "outputs": [
    {
     "name": "stdout",
     "output_type": "stream",
     "text": [
      "<class 'pandas.core.frame.DataFrame'>\n",
      "RangeIndex: 5 entries, 0 to 4\n",
      "Data columns (total 12 columns):\n",
      " #   Column               Non-Null Count  Dtype  \n",
      "---  ------               --------------  -----  \n",
      " 0   source_country       5 non-null      object \n",
      " 1   destination_country  5 non-null      object \n",
      " 2   shipment_mode        5 non-null      object \n",
      " 3   cut_off_time         5 non-null      object \n",
      " 4   tat                  5 non-null      object \n",
      " 5   processing_days      5 non-null      object \n",
      " 6   pick_up_point        5 non-null      object \n",
      " 7   drop_off_point       5 non-null      object \n",
      " 8   min_cs               5 non-null      int64  \n",
      " 9   max_cs               5 non-null      object \n",
      " 10  shipping_company     5 non-null      object \n",
      " 11  shipment_charges     5 non-null      float64\n",
      "dtypes: float64(1), int64(1), object(10)\n",
      "memory usage: 612.0+ bytes\n"
     ]
    }
   ],
   "source": [
    "details.info()"
   ]
  },
  {
   "cell_type": "markdown",
   "metadata": {},
   "source": [
    "## Integración de Conjuntos de Datos\n",
    "En este apartado se integran los datos de detalles de las compañías con los conjuntos de entrenamiento y de test, de manera que la información esté lo más completa posible."
   ]
  },
  {
   "cell_type": "markdown",
   "metadata": {},
   "source": [
    "### Conjunto de entrenamiento\n",
    "En concreto, hemos visto que los campos que tienen en común el conjunto de entrenamiento y el conjunto de detalles de las compañías de transporte son los campos:\n",
    " - `source_country`\n",
    " - `destination_country`\n",
    " - `shipment_mode`\n",
    " - `pick_up_point`\n",
    " - `drop_off_point`\n",
    " - `shipping_company`\n",
    " - `shipment_charges`\n",
    "\n",
    "Por lo tanto, se comprueba que los valores presentados para dichos campos en ambos conjuntos de datos, no contengan ningún tipo de espacio o símbolo no deseado o que al menos manejen los mismos valores."
   ]
  },
  {
   "cell_type": "code",
   "execution_count": 1759,
   "metadata": {},
   "outputs": [],
   "source": [
    "common_fields = ['source_country', 'destination_country', 'shipment_mode', 'pick_up_point', 'drop_off_point', 'shipping_company', 'shipment_charges']"
   ]
  },
  {
   "cell_type": "code",
   "execution_count": 1760,
   "metadata": {},
   "outputs": [],
   "source": [
    "def check_for_differences(a_df, b_df, fields):\n",
    "    for field in fields:\n",
    "        unique_a_df = set(a_df[field].unique())\n",
    "        unique_b_df = set(b_df[field].unique())\n",
    "\n",
    "        a_minus_b = unique_a_df - unique_b_df\n",
    "        b_minus_a = unique_b_df - unique_a_df\n",
    "        if (len(a_minus_b) > 0):\n",
    "            print(field, \"- Valores en a que no están en b ->\", a_minus_b)\n",
    "        if (len(b_minus_a) > 0):\n",
    "            print(field,\"- Valores en b que no están en a ->\", b_minus_a)\n",
    "        if ((len(b_minus_a) == 0) and (len(a_minus_b) == 0)):\n",
    "            print(field,\"- Manejan los mismos valores ->\", unique_a_df)"
   ]
  },
  {
   "cell_type": "code",
   "execution_count": 1761,
   "metadata": {},
   "outputs": [
    {
     "name": "stdout",
     "output_type": "stream",
     "text": [
      "source_country - Manejan los mismos valores -> {'GB'}\n",
      "destination_country - Manejan los mismos valores -> {'IN', 'BD'}\n",
      "shipment_mode - Manejan los mismos valores -> {'Ocean', 'Air'}\n",
      "pick_up_point - Manejan los mismos valores -> {'A'}\n",
      "drop_off_point - Valores en a que no están en b -> {'X', 'Y'}\n",
      "drop_off_point - Valores en b que no están en a -> {' Y ', ' X '}\n",
      "shipping_company - Manejan los mismos valores -> {'SC1', 'SC3', 'SC2'}\n",
      "shipment_charges - Manejan los mismos valores -> {0.75, 0.9, 1.125, 1.05, 0.5625}\n"
     ]
    }
   ],
   "source": [
    "check_for_differences(train, details, common_fields)"
   ]
  },
  {
   "cell_type": "markdown",
   "metadata": {},
   "source": [
    "Al hacer estas comprobaciones nos encontramos con que los valores utilizados en el conjunto de datos `details` para el campo `drop_off_point` difiere de los valores utilizados en el conjunto de `train`. En concreto vemos que hay espacios por delante y detrás, así que procedemos a eliminarlos."
   ]
  },
  {
   "cell_type": "code",
   "execution_count": 1762,
   "metadata": {},
   "outputs": [
    {
     "name": "stdout",
     "output_type": "stream",
     "text": [
      "drop_off_point - Manejan los mismos valores -> {'X', 'Y'}\n"
     ]
    }
   ],
   "source": [
    "details['drop_off_point'] = details['drop_off_point'].str.strip()\n",
    "check_for_differences(train, details, ['drop_off_point'])"
   ]
  },
  {
   "cell_type": "markdown",
   "metadata": {},
   "source": [
    "Ahora que sabemos que manejan los mismos valores, procedemos a combinarlos en un único conjunto de entrenamiento que contendrá también la información de detalles sobre las compañias de transporte."
   ]
  },
  {
   "cell_type": "code",
   "execution_count": 1763,
   "metadata": {},
   "outputs": [
    {
     "data": {
      "text/html": [
       "<div>\n",
       "<style scoped>\n",
       "    .dataframe tbody tr th:only-of-type {\n",
       "        vertical-align: middle;\n",
       "    }\n",
       "\n",
       "    .dataframe tbody tr th {\n",
       "        vertical-align: top;\n",
       "    }\n",
       "\n",
       "    .dataframe thead th {\n",
       "        text-align: right;\n",
       "    }\n",
       "</style>\n",
       "<table border=\"1\" class=\"dataframe\">\n",
       "  <thead>\n",
       "    <tr style=\"text-align: right;\">\n",
       "      <th></th>\n",
       "      <th>send_timestamp</th>\n",
       "      <th>pick_up_point</th>\n",
       "      <th>drop_off_point</th>\n",
       "      <th>source_country</th>\n",
       "      <th>destination_country</th>\n",
       "      <th>freight_cost</th>\n",
       "      <th>gross_weight</th>\n",
       "      <th>shipment_charges</th>\n",
       "      <th>shipment_mode</th>\n",
       "      <th>shipping_company</th>\n",
       "      <th>selected</th>\n",
       "      <th>shipping_time</th>\n",
       "      <th>cut_off_time</th>\n",
       "      <th>tat</th>\n",
       "      <th>processing_days</th>\n",
       "      <th>min_cs</th>\n",
       "      <th>max_cs</th>\n",
       "    </tr>\n",
       "  </thead>\n",
       "  <tbody>\n",
       "    <tr>\n",
       "      <th>0</th>\n",
       "      <td>2019-06-08 07:17:51</td>\n",
       "      <td>A</td>\n",
       "      <td>Y</td>\n",
       "      <td>GB</td>\n",
       "      <td>IN</td>\n",
       "      <td>88.61</td>\n",
       "      <td>355.0</td>\n",
       "      <td>0.75</td>\n",
       "      <td>Air</td>\n",
       "      <td>SC3</td>\n",
       "      <td>Y</td>\n",
       "      <td>5.00741</td>\n",
       "      <td>24/7</td>\n",
       "      <td>Within 15 mins</td>\n",
       "      <td>24/7</td>\n",
       "      <td>100</td>\n",
       "      <td>200,000</td>\n",
       "    </tr>\n",
       "    <tr>\n",
       "      <th>1</th>\n",
       "      <td>2019-10-04 14:23:29</td>\n",
       "      <td>A</td>\n",
       "      <td>Y</td>\n",
       "      <td>GB</td>\n",
       "      <td>IN</td>\n",
       "      <td>86.22</td>\n",
       "      <td>100.0</td>\n",
       "      <td>0.75</td>\n",
       "      <td>Air</td>\n",
       "      <td>SC3</td>\n",
       "      <td>Y</td>\n",
       "      <td>5.33692</td>\n",
       "      <td>24/7</td>\n",
       "      <td>Within 15 mins</td>\n",
       "      <td>24/7</td>\n",
       "      <td>100</td>\n",
       "      <td>200,000</td>\n",
       "    </tr>\n",
       "    <tr>\n",
       "      <th>2</th>\n",
       "      <td>2020-04-11 06:36:03</td>\n",
       "      <td>A</td>\n",
       "      <td>Y</td>\n",
       "      <td>GB</td>\n",
       "      <td>IN</td>\n",
       "      <td>94.24</td>\n",
       "      <td>2007.0</td>\n",
       "      <td>0.75</td>\n",
       "      <td>Air</td>\n",
       "      <td>SC3</td>\n",
       "      <td>Y</td>\n",
       "      <td>5.03067</td>\n",
       "      <td>24/7</td>\n",
       "      <td>Within 15 mins</td>\n",
       "      <td>24/7</td>\n",
       "      <td>100</td>\n",
       "      <td>200,000</td>\n",
       "    </tr>\n",
       "    <tr>\n",
       "      <th>3</th>\n",
       "      <td>2019-05-27 11:53:23</td>\n",
       "      <td>A</td>\n",
       "      <td>Y</td>\n",
       "      <td>GB</td>\n",
       "      <td>IN</td>\n",
       "      <td>87.84</td>\n",
       "      <td>228.7</td>\n",
       "      <td>0.75</td>\n",
       "      <td>Air</td>\n",
       "      <td>SC3</td>\n",
       "      <td>Y</td>\n",
       "      <td>5.18611</td>\n",
       "      <td>24/7</td>\n",
       "      <td>Within 15 mins</td>\n",
       "      <td>24/7</td>\n",
       "      <td>100</td>\n",
       "      <td>200,000</td>\n",
       "    </tr>\n",
       "    <tr>\n",
       "      <th>4</th>\n",
       "      <td>2019-06-08 07:46:01</td>\n",
       "      <td>A</td>\n",
       "      <td>Y</td>\n",
       "      <td>GB</td>\n",
       "      <td>IN</td>\n",
       "      <td>89.00</td>\n",
       "      <td>119.0</td>\n",
       "      <td>0.75</td>\n",
       "      <td>Air</td>\n",
       "      <td>SC3</td>\n",
       "      <td>Y</td>\n",
       "      <td>5.22060</td>\n",
       "      <td>24/7</td>\n",
       "      <td>Within 15 mins</td>\n",
       "      <td>24/7</td>\n",
       "      <td>100</td>\n",
       "      <td>200,000</td>\n",
       "    </tr>\n",
       "  </tbody>\n",
       "</table>\n",
       "</div>"
      ],
      "text/plain": [
       "       send_timestamp pick_up_point drop_off_point source_country  \\\n",
       "0 2019-06-08 07:17:51             A              Y             GB   \n",
       "1 2019-10-04 14:23:29             A              Y             GB   \n",
       "2 2020-04-11 06:36:03             A              Y             GB   \n",
       "3 2019-05-27 11:53:23             A              Y             GB   \n",
       "4 2019-06-08 07:46:01             A              Y             GB   \n",
       "\n",
       "  destination_country  freight_cost  gross_weight  shipment_charges  \\\n",
       "0                  IN         88.61         355.0              0.75   \n",
       "1                  IN         86.22         100.0              0.75   \n",
       "2                  IN         94.24        2007.0              0.75   \n",
       "3                  IN         87.84         228.7              0.75   \n",
       "4                  IN         89.00         119.0              0.75   \n",
       "\n",
       "  shipment_mode shipping_company selected  shipping_time cut_off_time  \\\n",
       "0           Air              SC3        Y        5.00741         24/7   \n",
       "1           Air              SC3        Y        5.33692         24/7   \n",
       "2           Air              SC3        Y        5.03067         24/7   \n",
       "3           Air              SC3        Y        5.18611         24/7   \n",
       "4           Air              SC3        Y        5.22060         24/7   \n",
       "\n",
       "              tat processing_days  min_cs      max_cs  \n",
       "0  Within 15 mins            24/7     100    200,000   \n",
       "1  Within 15 mins            24/7     100    200,000   \n",
       "2  Within 15 mins            24/7     100    200,000   \n",
       "3  Within 15 mins            24/7     100    200,000   \n",
       "4  Within 15 mins            24/7     100    200,000   "
      ]
     },
     "execution_count": 1763,
     "metadata": {},
     "output_type": "execute_result"
    }
   ],
   "source": [
    "\n",
    "train = pd.merge(train, details, on=common_fields, how='inner')\n",
    "train.head()"
   ]
  },
  {
   "cell_type": "markdown",
   "metadata": {},
   "source": [
    "### Conjunto de test\n",
    "En concreto, hemos visto que los campos que tienen en común el conjunto de test y el conjunto de detalles de las compañías de transporte son los mismos campos y por lo tanto, se comprueba también que los valores presentados para dichos campos en ambos conjuntos de datos, no contengan ningún tipo de espacio o símbolo no deseado o que al menos manejen los mismos valores."
   ]
  },
  {
   "cell_type": "code",
   "execution_count": 1764,
   "metadata": {},
   "outputs": [
    {
     "name": "stdout",
     "output_type": "stream",
     "text": [
      "source_country - Manejan los mismos valores -> {'GB'}\n",
      "destination_country - Manejan los mismos valores -> {'IN', 'BD'}\n",
      "shipment_mode - Manejan los mismos valores -> {'Ocean', 'Air'}\n",
      "pick_up_point - Manejan los mismos valores -> {'A'}\n",
      "drop_off_point - Manejan los mismos valores -> {'X', 'Y'}\n",
      "shipping_company - Manejan los mismos valores -> {'SC1', 'SC3', 'SC2'}\n",
      "shipment_charges - Manejan los mismos valores -> {0.75, 1.05, 1.125, 0.5625, 0.9}\n"
     ]
    }
   ],
   "source": [
    "check_for_differences(test, details, common_fields)"
   ]
  },
  {
   "cell_type": "markdown",
   "metadata": {},
   "source": [
    "En este caso nos encontramos con que ambos conjuntos de datos manejan los mismos valores y además estos no contienen ningún espacio ni símbolo no deseado, por lo que podemos proceder a integrar los datos de detalles de las compañías de transporte con el conjunto de test, dejando un nuevo conjunto de test más completo."
   ]
  },
  {
   "cell_type": "code",
   "execution_count": 1765,
   "metadata": {},
   "outputs": [
    {
     "data": {
      "text/html": [
       "<div>\n",
       "<style scoped>\n",
       "    .dataframe tbody tr th:only-of-type {\n",
       "        vertical-align: middle;\n",
       "    }\n",
       "\n",
       "    .dataframe tbody tr th {\n",
       "        vertical-align: top;\n",
       "    }\n",
       "\n",
       "    .dataframe thead th {\n",
       "        text-align: right;\n",
       "    }\n",
       "</style>\n",
       "<table border=\"1\" class=\"dataframe\">\n",
       "  <thead>\n",
       "    <tr style=\"text-align: right;\">\n",
       "      <th></th>\n",
       "      <th>send_timestamp</th>\n",
       "      <th>pick_up_point</th>\n",
       "      <th>drop_off_point</th>\n",
       "      <th>source_country</th>\n",
       "      <th>destination_country</th>\n",
       "      <th>freight_cost</th>\n",
       "      <th>gross_weight</th>\n",
       "      <th>shipment_charges</th>\n",
       "      <th>shipment_mode</th>\n",
       "      <th>shipping_company</th>\n",
       "      <th>selected</th>\n",
       "      <th>cut_off_time</th>\n",
       "      <th>tat</th>\n",
       "      <th>processing_days</th>\n",
       "      <th>min_cs</th>\n",
       "      <th>max_cs</th>\n",
       "    </tr>\n",
       "  </thead>\n",
       "  <tbody>\n",
       "    <tr>\n",
       "      <th>0</th>\n",
       "      <td>2019-10-04 14:27:04</td>\n",
       "      <td>A</td>\n",
       "      <td>Y</td>\n",
       "      <td>GB</td>\n",
       "      <td>IN</td>\n",
       "      <td>86.81</td>\n",
       "      <td>100.0</td>\n",
       "      <td>0.75</td>\n",
       "      <td>Air</td>\n",
       "      <td>SC3</td>\n",
       "      <td>Y</td>\n",
       "      <td>24/7</td>\n",
       "      <td>Within 15 mins</td>\n",
       "      <td>24/7</td>\n",
       "      <td>100</td>\n",
       "      <td>200,000</td>\n",
       "    </tr>\n",
       "    <tr>\n",
       "      <th>1</th>\n",
       "      <td>2020-01-07 09:39:35</td>\n",
       "      <td>A</td>\n",
       "      <td>Y</td>\n",
       "      <td>GB</td>\n",
       "      <td>IN</td>\n",
       "      <td>94.43</td>\n",
       "      <td>1006.0</td>\n",
       "      <td>0.75</td>\n",
       "      <td>Air</td>\n",
       "      <td>SC3</td>\n",
       "      <td>Y</td>\n",
       "      <td>24/7</td>\n",
       "      <td>Within 15 mins</td>\n",
       "      <td>24/7</td>\n",
       "      <td>100</td>\n",
       "      <td>200,000</td>\n",
       "    </tr>\n",
       "    <tr>\n",
       "      <th>2</th>\n",
       "      <td>2019-11-20 20:30:05</td>\n",
       "      <td>A</td>\n",
       "      <td>Y</td>\n",
       "      <td>GB</td>\n",
       "      <td>IN</td>\n",
       "      <td>92.48</td>\n",
       "      <td>115.0</td>\n",
       "      <td>0.75</td>\n",
       "      <td>Air</td>\n",
       "      <td>SC3</td>\n",
       "      <td>Y</td>\n",
       "      <td>24/7</td>\n",
       "      <td>Within 15 mins</td>\n",
       "      <td>24/7</td>\n",
       "      <td>100</td>\n",
       "      <td>200,000</td>\n",
       "    </tr>\n",
       "    <tr>\n",
       "      <th>3</th>\n",
       "      <td>2020-04-11 14:53:25</td>\n",
       "      <td>A</td>\n",
       "      <td>Y</td>\n",
       "      <td>GB</td>\n",
       "      <td>IN</td>\n",
       "      <td>94.45</td>\n",
       "      <td>325.0</td>\n",
       "      <td>0.75</td>\n",
       "      <td>Air</td>\n",
       "      <td>SC3</td>\n",
       "      <td>Y</td>\n",
       "      <td>24/7</td>\n",
       "      <td>Within 15 mins</td>\n",
       "      <td>24/7</td>\n",
       "      <td>100</td>\n",
       "      <td>200,000</td>\n",
       "    </tr>\n",
       "    <tr>\n",
       "      <th>4</th>\n",
       "      <td>2019-03-23 06:39:22</td>\n",
       "      <td>A</td>\n",
       "      <td>Y</td>\n",
       "      <td>GB</td>\n",
       "      <td>IN</td>\n",
       "      <td>90.39</td>\n",
       "      <td>61.0</td>\n",
       "      <td>0.75</td>\n",
       "      <td>Air</td>\n",
       "      <td>SC3</td>\n",
       "      <td>Y</td>\n",
       "      <td>24/7</td>\n",
       "      <td>Within 15 mins</td>\n",
       "      <td>24/7</td>\n",
       "      <td>100</td>\n",
       "      <td>200,000</td>\n",
       "    </tr>\n",
       "  </tbody>\n",
       "</table>\n",
       "</div>"
      ],
      "text/plain": [
       "       send_timestamp pick_up_point drop_off_point source_country  \\\n",
       "0 2019-10-04 14:27:04             A              Y             GB   \n",
       "1 2020-01-07 09:39:35             A              Y             GB   \n",
       "2 2019-11-20 20:30:05             A              Y             GB   \n",
       "3 2020-04-11 14:53:25             A              Y             GB   \n",
       "4 2019-03-23 06:39:22             A              Y             GB   \n",
       "\n",
       "  destination_country  freight_cost  gross_weight  shipment_charges  \\\n",
       "0                  IN         86.81         100.0              0.75   \n",
       "1                  IN         94.43        1006.0              0.75   \n",
       "2                  IN         92.48         115.0              0.75   \n",
       "3                  IN         94.45         325.0              0.75   \n",
       "4                  IN         90.39          61.0              0.75   \n",
       "\n",
       "  shipment_mode shipping_company selected cut_off_time             tat  \\\n",
       "0           Air              SC3        Y         24/7  Within 15 mins   \n",
       "1           Air              SC3        Y         24/7  Within 15 mins   \n",
       "2           Air              SC3        Y         24/7  Within 15 mins   \n",
       "3           Air              SC3        Y         24/7  Within 15 mins   \n",
       "4           Air              SC3        Y         24/7  Within 15 mins   \n",
       "\n",
       "  processing_days  min_cs      max_cs  \n",
       "0            24/7     100    200,000   \n",
       "1            24/7     100    200,000   \n",
       "2            24/7     100    200,000   \n",
       "3            24/7     100    200,000   \n",
       "4            24/7     100    200,000   "
      ]
     },
     "execution_count": 1765,
     "metadata": {},
     "output_type": "execute_result"
    }
   ],
   "source": [
    "test = pd.merge(test, details, on=common_fields, how='inner')\n",
    "test.head()"
   ]
  },
  {
   "cell_type": "markdown",
   "metadata": {},
   "source": [
    "## Análisis Exploratorio de Datos (EDA)"
   ]
  },
  {
   "cell_type": "markdown",
   "metadata": {},
   "source": [
    "### Análisis descriptivo"
   ]
  },
  {
   "cell_type": "markdown",
   "metadata": {},
   "source": [
    "Puesto que se ha llevado a cabo la integración de los datos de entrenamiento y de test con el conjunto de detalles sobre compañias de transporte, el análisis se centrará principalmente en los conjuntos resultantes de esa combinación, más concretamente en el de entrenamiento. Aún así, cabe destacar que la variable \"shipping_time\" sólo está en el conjunto de entrenamiento."
   ]
  },
  {
   "cell_type": "code",
   "execution_count": 1766,
   "metadata": {},
   "outputs": [
    {
     "name": "stdout",
     "output_type": "stream",
     "text": [
      "Campos presentes en el conjunto de entrenamiento que no están en el de test:  {'shipping_time'}\n"
     ]
    }
   ],
   "source": [
    "field_differences = set(train.columns) - set(test.columns)\n",
    "print(\"Campos presentes en el conjunto de entrenamiento que no están en el de test: \", field_differences)"
   ]
  },
  {
   "cell_type": "markdown",
   "metadata": {},
   "source": [
    "Comprobamos nuevamente la información de este conjunto de entrenamiento, donde recordamos lo que representa cada variable:\n",
    "\n",
    " - **send_timestamp**: Fecha y hora en que el pedido fue enviado al país de destino, ajustada al huso horario del país de origen.\n",
    " - **pick_up_point**: Código que identifica el lugar donde se recogen las mercancías para su envío.\n",
    " - **drop_off_point**: Código que identifica el lugar donde se entregan las mercancías al final de su viaje.\n",
    " - **source_country**: País desde donde se envían las mercancías.\n",
    " - **destination_country**: País al cual se envían las mercancías.\n",
    " - **freight_cost**: Costo asociado al transporte de cada kilogramo de mercancía.\n",
    " - **gross_weight**: Peso total en kilogramos de las mercancías que se necesitan enviar.\n",
    " - **shipment_charges**: Costo fijo asociado a cada envío, independientemente del peso de la carga.\n",
    " - **shipment_mode**: Método utilizado para enviar las mercancías, como por aire, mar, etc.\n",
    " - **shipping_company**: Identificador de la compañía de envíos que es candidata para realizar el transporte de las mercancías.\n",
    " - **selected**: Indica si la compañía en `shipping_company` fue seleccionada o no para realizar el envío.\n",
    " - **shipping_time**: Duración en días que toma para que las mercancías lleguen a su destino desde el momento en que son enviadas.\n",
    " - **cut_off_time**: Ventana de tiempo durante la cual las mercancías pueden ser recogidas. Por ejemplo, \"10 - 2 y 3 - 6 BST\" indica que la recogida está disponible entre las 10 a.m. y las 2 p.m., y nuevamente entre las 3 p.m. y las 6 p.m., todas las horas en Horario Estándar de Bangladesh.\n",
    "- **tat**: Tiempo que toma desde que se realiza el pedido del paquete hasta su envío. \"T\" se refiere a la hora en que se envió el paquete, y \"CO\" significa hora de corte, o la hora después de la cual el paquete ya no puede ser enviado. \"Before CO - T+0\" y \"After CO - T+1\" significa que si las mercancías se envían a la compañía de transporte antes de la hora de corte, entonces el paquete será enviado el mismo día, de lo contrario será enviado al día siguiente.\n",
    "- **processing_days**: Días en los que el punto de recogida está operativo.\n",
    "- **min_cs**: Costo mínimo asociado con el envío de mercancías.\n",
    "- **max_cs**: Costo máximo asociado con el envío de mercancías.\n",
    "\n",
    "Cabe añadir que el campo `shipment_id` ha sido incluído como índice, por lo tanto aquí no se referencia, pero hace alusión al identificador único del envío."
   ]
  },
  {
   "cell_type": "markdown",
   "metadata": {},
   "source": [
    "Por un lado, vemos que *no se encuentran registros nulos* para ninguna de las variables del dataset y además se observa algún que otro *tipo de datos que está mal asignado*, como puede ser `max_cs` que representa el costo máximo asociado al envío, es decir, un valor numérico y está siendo tratado como un `object` mientras que el costo mínimo asociado al envío, que debería tener el mismo formato numérico, está siendo tratado como un `int64`. "
   ]
  },
  {
   "cell_type": "code",
   "execution_count": 1767,
   "metadata": {},
   "outputs": [
    {
     "name": "stdout",
     "output_type": "stream",
     "text": [
      "<class 'pandas.core.frame.DataFrame'>\n",
      "RangeIndex: 5114 entries, 0 to 5113\n",
      "Data columns (total 17 columns):\n",
      " #   Column               Non-Null Count  Dtype         \n",
      "---  ------               --------------  -----         \n",
      " 0   send_timestamp       5114 non-null   datetime64[ns]\n",
      " 1   pick_up_point        5114 non-null   object        \n",
      " 2   drop_off_point       5114 non-null   object        \n",
      " 3   source_country       5114 non-null   object        \n",
      " 4   destination_country  5114 non-null   object        \n",
      " 5   freight_cost         5114 non-null   float64       \n",
      " 6   gross_weight         5114 non-null   float64       \n",
      " 7   shipment_charges     5114 non-null   float64       \n",
      " 8   shipment_mode        5114 non-null   object        \n",
      " 9   shipping_company     5114 non-null   object        \n",
      " 10  selected             5114 non-null   object        \n",
      " 11  shipping_time        5114 non-null   float64       \n",
      " 12  cut_off_time         5114 non-null   object        \n",
      " 13  tat                  5114 non-null   object        \n",
      " 14  processing_days      5114 non-null   object        \n",
      " 15  min_cs               5114 non-null   int64         \n",
      " 16  max_cs               5114 non-null   object        \n",
      "dtypes: datetime64[ns](1), float64(4), int64(1), object(11)\n",
      "memory usage: 679.3+ KB\n"
     ]
    }
   ],
   "source": [
    "train.info()"
   ]
  },
  {
   "cell_type": "markdown",
   "metadata": {},
   "source": [
    "Este conjunto de datos está compuesto por 5114 registros y 17 variables."
   ]
  },
  {
   "cell_type": "code",
   "execution_count": 1768,
   "metadata": {},
   "outputs": [
    {
     "data": {
      "text/plain": [
       "(5114, 17)"
      ]
     },
     "execution_count": 1768,
     "metadata": {},
     "output_type": "execute_result"
    }
   ],
   "source": [
    "train.shape"
   ]
  },
  {
   "cell_type": "markdown",
   "metadata": {},
   "source": [
    "Se comprueban también la cantidad de valores únicos para cada variable, de manera que podamos distinguir la cantidad de valores distintos que puede tomar cada una de ellas."
   ]
  },
  {
   "cell_type": "code",
   "execution_count": 1769,
   "metadata": {},
   "outputs": [
    {
     "data": {
      "text/plain": [
       "send_timestamp         4804\n",
       "pick_up_point             1\n",
       "drop_off_point            2\n",
       "source_country            1\n",
       "destination_country       2\n",
       "freight_cost           2000\n",
       "gross_weight           1301\n",
       "shipment_charges          5\n",
       "shipment_mode             2\n",
       "shipping_company          3\n",
       "selected                  1\n",
       "shipping_time          4315\n",
       "cut_off_time              3\n",
       "tat                       3\n",
       "processing_days           3\n",
       "min_cs                    2\n",
       "max_cs                    3\n",
       "dtype: int64"
      ]
     },
     "execution_count": 1769,
     "metadata": {},
     "output_type": "execute_result"
    }
   ],
   "source": [
    "train.nunique()"
   ]
  },
  {
   "cell_type": "markdown",
   "metadata": {},
   "source": [
    "En este caso vemos que las variables `pick_up_point`, `source_country` y `selected` sólo toman un valor, lo que podría introducir ruido en nuestro conjunto de datos al considerarse información redundante.\n",
    "\n",
    "El resto de variables que toman de de 2 a 3 valores distintos habría que analizarlas más en profundidad para ver su frecuencia y posiblemente tratarlas como variables categóricas.\n"
   ]
  },
  {
   "cell_type": "markdown",
   "metadata": {},
   "source": [
    "### Análisis de duplicados"
   ]
  },
  {
   "cell_type": "markdown",
   "metadata": {},
   "source": [
    "### Análisis de valores faltantes"
   ]
  },
  {
   "cell_type": "markdown",
   "metadata": {},
   "source": [
    "### Visualización de datos"
   ]
  },
  {
   "cell_type": "markdown",
   "metadata": {},
   "source": [
    "#### Histogramas"
   ]
  },
  {
   "cell_type": "markdown",
   "metadata": {},
   "source": [
    "#### Diagramas de barras"
   ]
  },
  {
   "cell_type": "markdown",
   "metadata": {},
   "source": [
    "#### Correlación entre variables"
   ]
  },
  {
   "cell_type": "markdown",
   "metadata": {},
   "source": [
    "#### Boxplots"
   ]
  }
 ],
 "metadata": {
  "kernelspec": {
   "display_name": "Python 3",
   "language": "python",
   "name": "python3"
  },
  "language_info": {
   "codemirror_mode": {
    "name": "ipython",
    "version": 3
   },
   "file_extension": ".py",
   "mimetype": "text/x-python",
   "name": "python",
   "nbconvert_exporter": "python",
   "pygments_lexer": "ipython3",
   "version": "3.11.8"
  }
 },
 "nbformat": 4,
 "nbformat_minor": 2
}
